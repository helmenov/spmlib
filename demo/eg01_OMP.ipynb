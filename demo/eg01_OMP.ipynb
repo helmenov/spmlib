{
 "cells": [
  {
   "cell_type": "code",
   "execution_count": null,
   "metadata": {},
   "outputs": [],
   "source": [
    "%matplotlib inline"
   ]
  },
  {
   "cell_type": "code",
   "execution_count": null,
   "metadata": {},
   "outputs": [],
   "source": [
    "import numpy as np\n",
    "from scipy import linalg\n",
    "\n",
    "# Orthogonal matching pursuit (OMP)\n",
    "#\n",
    "# Y. C. Pati, R. Rezaiifar, and P. S. Krishnaprasad, \n",
    "# \"Orthogonal matching pursuit: Recursive function approximation with applications to wavelet decomposition.\"\n",
    "# The Twenty-Seventh Asilomar Conference on Signals, Systems and Computers, pp. 40-44, 1993.\n",
    "#\n",
    "def OMP(A, b, tol=1e-5, maxnnz=np.inf):\n",
    "    m, n = A.shape\n",
    "    supp = []\n",
    "    x = np.zeros(n)\n",
    "    r = b.copy()\n",
    "    while len(supp) < maxnnz and linalg.norm(r) > tol:\n",
    "        s = np.argmax(np.abs( A.T.dot(r) ))\n",
    "        supp.append(s)\n",
    "        Asupp = A[:,supp]\n",
    "        x[supp] = np.linalg.lstsq(Asupp, b, rcond=None)[0]\n",
    "        r = b - Asupp.dot(x[supp])\n",
    "    return x"
   ]
  },
  {
   "cell_type": "code",
   "execution_count": null,
   "metadata": {},
   "outputs": [],
   "source": [
    "from time import time\n",
    "#%% Demo: Sparse solvers\n",
    "rng = np.random.RandomState(int(time()))\n",
    "#m, n = 512, 2048\n",
    "m, n = 1024, 8192\n",
    "#m, n = 2000, 4000\n",
    "\n",
    "# use a random matrix as a basis (design matrix)\n",
    "A = rng.randn(m, n) / np.sqrt(m)\n",
    "\n",
    "# generate a k-sparse Gaussian signal vector\n",
    "k = 100\n",
    "stdx = 1.\n",
    "snr = 10.\n",
    "\n",
    "x_true = np.zeros(n)\n",
    "T = np.sort(rng.choice(n,k,replace=False))\n",
    "print('True support of %d nonzeros = ' % (k))\n",
    "print(T)\n",
    "x_true[T] = rng.randn(k) * stdx\n",
    "\n",
    "# make the query vector\n",
    "b = A.dot(x_true)\n",
    "\n",
    "# add noise\n",
    "normb = linalg.norm(b)\n",
    "noise = rng.randn(m)\n",
    "noise = noise / linalg.norm(noise) * normb / snr\n",
    "tol = linalg.norm(noise)\n",
    "b = b + noise\n",
    "\n",
    "# OMP\n",
    "print(\"Running OMP..\")\n",
    "t0 = time()\n",
    "#x_est = OMP(A, b, maxnnz=100)\n",
    "x_est = OMP(A, b, tol=tol)\n",
    "print('done in %.2fs.' % (time() - t0))\n",
    "\n",
    "Tpred = np.nonzero(x_est)[0]\n",
    "print('Predicted supprt of %d nonzeros = ' % (np.count_nonzero(x_est)))\n",
    "print(Tpred)\n",
    "\n",
    "from sklearn import metrics\n",
    "print(metrics.classification_report(x_true == 0, x_est == 0))\n",
    "print(metrics.confusion_matrix(x_true == 0, x_est == 0))"
   ]
  },
  {
   "cell_type": "code",
   "execution_count": null,
   "metadata": {},
   "outputs": [],
   "source": [
    "print('rel. error = %.2e' % (linalg.norm(x_est-x_true)/linalg.norm(x_true)))\n",
    "import matplotlib.pyplot as plt\n",
    "plt.figure()\n",
    "plt.plot(np.arange(n), x_true, 'g.', markersize=8, mec='green', label='True')\n",
    "plt.plot(np.arange(n), x_est, 'ro', mfc = 'None', markersize=8, mec='red', mew=1, label='Estimated')\n",
    "plt.legend(loc='upper right', shadow=False)\n",
    "plt.show()"
   ]
  }
 ],
 "metadata": {
  "kernelspec": {
   "display_name": "Python 2",
   "language": "python",
   "name": "python2"
  },
  "language_info": {
   "codemirror_mode": {
    "name": "ipython",
    "version": 2
   },
   "file_extension": ".py",
   "mimetype": "text/x-python",
   "name": "python",
   "nbconvert_exporter": "python",
   "pygments_lexer": "ipython2",
   "version": "2.7.13"
  }
 },
 "nbformat": 4,
 "nbformat_minor": 2
}
