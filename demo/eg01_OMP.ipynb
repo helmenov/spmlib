{
 "cells": [
  {
   "cell_type": "code",
   "execution_count": 1,
   "metadata": {},
   "outputs": [],
   "source": [
    "%matplotlib inline"
   ]
  },
  {
   "cell_type": "code",
   "execution_count": 2,
   "metadata": {},
   "outputs": [],
   "source": [
    "import numpy as np\n",
    "from scipy import linalg\n",
    "\n",
    "# Orthogonal matching pursuit (OMP)\n",
    "#\n",
    "# Y. C. Pati, R. Rezaiifar, and P. S. Krishnaprasad, \n",
    "# \"Orthogonal matching pursuit: Recursive function approximation with applications to wavelet decomposition.\"\n",
    "# The Twenty-Seventh Asilomar Conference on Signals, Systems and Computers, pp. 40-44, 1993.\n",
    "#\n",
    "def OMP(A, b, tol=1e-5, maxnnz=np.inf):\n",
    "    m, n = A.shape\n",
    "    supp = []\n",
    "    x = np.zeros(n)\n",
    "    r = b.copy()\n",
    "    while len(supp) < maxnnz and linalg.norm(r) > tol:\n",
    "        s = np.argmax(np.abs( A.T.dot(r) ))\n",
    "        supp.append(s)\n",
    "        Asupp = A[:,supp]\n",
    "        x[supp] = np.linalg.lstsq(Asupp, b)[0]\n",
    "        r = b - Asupp.dot(x[supp])\n",
    "    return x"
   ]
  },
  {
   "cell_type": "code",
   "execution_count": 3,
   "metadata": {},
   "outputs": [
    {
     "name": "stdout",
     "output_type": "stream",
     "text": [
      "True support of 100 nonzeros = \n",
      "[  78  128  190  208  231  233  404  507  698  780  870 1038 1131 1189 1227\n",
      " 1473 1479 1568 1678 1747 2118 2136 2202 2264 2340 2405 2482 2506 2556 2789\n",
      " 2925 3037 3078 3099 3163 3273 3449 3671 3792 4165 4376 4450 4504 4562 4674\n",
      " 4895 4958 4971 4978 5016 5092 5130 5171 5240 5246 5328 5380 5402 5499 5592\n",
      " 5646 5665 5708 5753 5763 5809 5889 5900 5941 5957 6063 6112 6125 6168 6171\n",
      " 6301 6427 6551 6572 6637 6846 6934 7026 7081 7213 7232 7291 7532 7533 7573\n",
      " 7630 7631 7829 7846 7887 8092 8095 8119 8120 8183]\n",
      "Running OMP..\n",
      "done in 1.35s.\n",
      "Predicted supprt of 91 nonzeros = \n",
      "[  78  128  190  208  233  507  698  780  870 1038 1131 1189 1227 1473 1479\n",
      " 1568 1678 1747 2118 2136 2202 2264 2340 2405 2482 2506 2789 3037 3078 3099\n",
      " 3163 3273 3449 3671 3792 4165 4376 4450 4504 4562 4674 4895 4958 4971 4978\n",
      " 5016 5092 5130 5171 5246 5328 5380 5402 5592 5646 5665 5708 5763 5809 5889\n",
      " 5900 5941 5957 6063 6112 6125 6168 6171 6301 6427 6551 6572 6637 6846 7026\n",
      " 7081 7213 7232 7291 7532 7533 7573 7630 7631 7846 7887 8092 8095 8119 8120\n",
      " 8183]\n",
      "             precision    recall  f1-score   support\n",
      "\n",
      "      False       1.00      0.91      0.95       100\n",
      "       True       1.00      1.00      1.00      8092\n",
      "\n",
      "avg / total       1.00      1.00      1.00      8192\n",
      "\n",
      "[[  91    9]\n",
      " [   0 8092]]\n"
     ]
    }
   ],
   "source": [
    "from time import time\n",
    "#%% Demo: Sparse solvers\n",
    "rng = np.random.RandomState(int(time()))\n",
    "#m, n = 512, 2048\n",
    "m, n = 1024, 8192\n",
    "#m, n = 2000, 4000\n",
    "\n",
    "# use a random matrix as a basis (design matrix)\n",
    "A = rng.randn(m, n) / np.sqrt(m)\n",
    "\n",
    "# generate a k-sparse Gaussian signal vector\n",
    "k = 100\n",
    "stdx = 1.\n",
    "snr = 10.\n",
    "\n",
    "x_true = np.zeros(n)\n",
    "T = np.sort(rng.choice(n,k,replace=False))\n",
    "print('True support of %d nonzeros = ' % (k))\n",
    "print(T)\n",
    "x_true[T] = rng.randn(k) * stdx\n",
    "\n",
    "# make the query vector\n",
    "b = A.dot(x_true)\n",
    "\n",
    "# add noise\n",
    "normb = linalg.norm(b)\n",
    "noise = rng.randn(m)\n",
    "noise = noise / linalg.norm(noise) * normb / snr\n",
    "tol = linalg.norm(noise)\n",
    "b = b + noise\n",
    "\n",
    "# OMP\n",
    "print(\"Running OMP..\")\n",
    "t0 = time()\n",
    "#x_est = OMP(A, b, maxnnz=100)\n",
    "x_est = OMP(A, b, tol=tol)\n",
    "print('done in %.2fs.' % (time() - t0))\n",
    "\n",
    "Tpred = np.nonzero(x_est)[0]\n",
    "print('Predicted supprt of %d nonzeros = ' % (np.count_nonzero(x_est)))\n",
    "print(Tpred)\n",
    "\n",
    "from sklearn import metrics\n",
    "print(metrics.classification_report(x_true == 0, x_est == 0))\n",
    "print(metrics.confusion_matrix(x_true == 0, x_est == 0))"
   ]
  },
  {
   "cell_type": "code",
   "execution_count": 4,
   "metadata": {},
   "outputs": [
    {
     "name": "stdout",
     "output_type": "stream",
     "text": [
      "rel. error = 4.32e-02\n"
     ]
    },
    {
     "data": {
      "image/png": "[encoded data removed]",
      "text/plain": [
       "<matplotlib.figure.Figure at 0x1086af510>"
      ]
     },
     "metadata": {},
     "output_type": "display_data"
    }
   ],
   "source": [
    "print('rel. error = %.2e' % (linalg.norm(x_est-x_true)/linalg.norm(x_true)))\n",
    "import matplotlib.pyplot as plt\n",
    "plt.figure()\n",
    "plt.plot(np.arange(n), x_true, 'g.', markersize=8, mec='green', label='True')\n",
    "plt.plot(np.arange(n), x_est, 'ro', mfc = 'None', markersize=8, mec='red', label='Estimated')\n",
    "plt.legend(loc='upper right', shadow=False)\n",
    "plt.show()"
   ]
  }
 ],
 "metadata": {
  "kernelspec": {
   "display_name": "Python 2",
   "language": "python",
   "name": "python2"
  },
  "language_info": {
   "codemirror_mode": {
    "name": "ipython",
    "version": 2
   },
   "file_extension": ".py",
   "mimetype": "text/x-python",
   "name": "python",
   "nbconvert_exporter": "python",
   "pygments_lexer": "ipython2",
   "version": "2.7.13"
  }
 },
 "nbformat": 4,
 "nbformat_minor": 2
}
