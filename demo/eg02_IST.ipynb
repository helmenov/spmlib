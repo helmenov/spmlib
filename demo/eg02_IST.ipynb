{
 "cells": [
  {
   "cell_type": "code",
   "execution_count": null,
   "metadata": {},
   "outputs": [],
   "source": [
    "%matplotlib inline"
   ]
  },
  {
   "cell_type": "code",
   "execution_count": null,
   "metadata": {},
   "outputs": [],
   "source": [
    "import numpy as np\n",
    "\n",
    "# soft thresholding function\n",
    "def soft(z, th):\n",
    "    return np.sign(z) * np.maximum(np.abs(z) - th, 0)"
   ]
  },
  {
   "cell_type": "code",
   "execution_count": null,
   "metadata": {},
   "outputs": [],
   "source": [
    "from scipy import linalg\n",
    "\n",
    "# Iterative soft thresholding (IST)\n",
    "def IST(A, b, tol=1e-5, maxiter=300, l=1., L=None):\n",
    "    m, n = A.shape\n",
    "    x = np.zeros(n)\n",
    "    r = b.copy()\n",
    "    if L is None:    # roughly estimate the Lipschitz constant\n",
    "        L = 2*linalg.norm(A.dot(A.T.dot(b))) / linalg.norm(b)\n",
    "    count = 0\n",
    "    cost_history = []\n",
    "    normr = linalg.norm(r)\n",
    "    while count < maxiter and normr > tol:\n",
    "        count += 1\n",
    "        x = soft(x + A.T.dot(r) / L, l/L)\n",
    "        r = b - A.dot(x)\n",
    "        normr = linalg.norm(r)\n",
    "        cost_history.append( normr*normr + l*np.sum(np.abs(x)) )\n",
    "    return x, cost_history"
   ]
  },
  {
   "cell_type": "code",
   "execution_count": null,
   "metadata": {},
   "outputs": [],
   "source": [
    "from time import time\n",
    "# Generate sythetic data for demo\n",
    "rng = np.random.RandomState(int(time()))\n",
    "#m, n = 512, 2048\n",
    "m, n = 1024, 8192\n",
    "#m, n = 2000, 4000\n",
    "\n",
    "# use a random matrix as a basis (design matrix)\n",
    "A = rng.randn(m, n) / np.sqrt(m)\n",
    "\n",
    "# generate a k-sparse Gaussian signal vector\n",
    "k = 100\n",
    "stdx = 1.\n",
    "snr = 10.\n",
    "\n",
    "x_true = np.zeros(n)\n",
    "T = np.sort(rng.choice(n,k,replace=False))\n",
    "print('True support of %d nonzeros = ' % (k))\n",
    "print(T)\n",
    "x_true[T] = rng.randn(k) * stdx\n",
    "\n",
    "# make the query vector\n",
    "b = A.dot(x_true)\n",
    "\n",
    "# add noise\n",
    "normb = linalg.norm(b)\n",
    "noise = rng.randn(m)\n",
    "noise = noise / linalg.norm(noise) * normb / snr\n",
    "tol = linalg.norm(noise)\n",
    "b = b + noise"
   ]
  },
  {
   "cell_type": "code",
   "execution_count": null,
   "metadata": {},
   "outputs": [],
   "source": [
    "print(\"Running IST..\")\n",
    "t0 = time()\n",
    "l = (stdx*stdx / k * m) / np.sqrt(snr) / normb\n",
    "x_est, ch = IST(A, b, tol=tol, l=l, maxiter=300)\n",
    "print('done in %.2fs.' % (time() - t0))\n",
    "\n",
    "import matplotlib.pyplot as plt\n",
    "plt.loglog(ch)\n",
    "\n",
    "Tpred = np.nonzero(x_est)[0]\n",
    "print('Predicted supprt of %d nonzeros = ' % (np.count_nonzero(x_est)))\n",
    "print(Tpred)\n",
    "\n",
    "from sklearn import metrics\n",
    "print(metrics.classification_report(x_true == 0, x_est == 0))\n",
    "print(metrics.confusion_matrix(x_true == 0, x_est == 0))"
   ]
  },
  {
   "cell_type": "code",
   "execution_count": null,
   "metadata": {},
   "outputs": [],
   "source": [
    "print('rel. error = %.2e' % (linalg.norm(x_est-x_true)/linalg.norm(x_true)))\n",
    "import matplotlib.pyplot as plt\n",
    "plt.figure()\n",
    "plt.plot(np.arange(n), x_true, 'g.', markersize=8, mec='green', label='True')\n",
    "plt.plot(np.arange(n), x_est, 'ro', mfc = 'None', markersize=8, mec='red', mew=1, label='Estimated')\n",
    "plt.legend(loc='upper right', shadow=False)\n",
    "plt.show()"
   ]
  },
  {
   "cell_type": "code",
   "execution_count": null,
   "metadata": {},
   "outputs": [],
   "source": [
    "# debias by least squares\n",
    "Tpred = np.nonzero(x_est)[0]\n",
    "x_est[Tpred] = np.linalg.lstsq(A[:,Tpred], b, rcond=None)[0]\n",
    "\n",
    "print('rel. error = %.2e' % (linalg.norm(x_est-x_true)/linalg.norm(x_true)))\n",
    "import matplotlib.pyplot as plt\n",
    "plt.figure()\n",
    "plt.plot(np.arange(n), x_true, 'g.', markersize=8, mec='green', label='True')\n",
    "plt.plot(np.arange(n), x_est, 'ro', mfc = 'None', markersize=8, mec='red', mew=1, label='Estimated')\n",
    "plt.legend(loc='upper right', shadow=False)\n",
    "plt.show()"
   ]
  }
 ],
 "metadata": {
  "kernelspec": {
   "display_name": "Python 2",
   "language": "python",
   "name": "python2"
  },
  "language_info": {
   "codemirror_mode": {
    "name": "ipython",
    "version": 2
   },
   "file_extension": ".py",
   "mimetype": "text/x-python",
   "name": "python",
   "nbconvert_exporter": "python",
   "pygments_lexer": "ipython2",
   "version": "2.7.13"
  }
 },
 "nbformat": 4,
 "nbformat_minor": 2
}
