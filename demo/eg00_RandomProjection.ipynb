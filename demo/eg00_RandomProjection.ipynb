{
 "cells": [
  {
   "cell_type": "code",
   "execution_count": null,
   "metadata": {},
   "outputs": [],
   "source": [
    "%matplotlib inline"
   ]
  },
  {
   "cell_type": "code",
   "execution_count": null,
   "metadata": {},
   "outputs": [],
   "source": [
    "import numpy as np\n",
    "from time import time\n",
    "\n",
    "rng = np.random.RandomState(int(time()))\n",
    "m, n = 500, 1000\n",
    "\n",
    "# Gaussian random matrix of JL transform\n",
    "A = rng.randn(m, n) / np.sqrt(m)\n",
    "stda = 1./np.sqrt(m)\n",
    "\n",
    "import matplotlib.pyplot as plt\n",
    "plt.grid(False)\n",
    "plt.imshow(A, cmap=plt.cm.bwr, vmin=-3.*stda, vmax=3.*stda)\n",
    "plt.colorbar()\n",
    "plt.show()\n",
    "\n",
    "#plt.rc('font', family='serif')\n",
    "#plt.savefig('RandomMatrix.pdf', bbox_inches='tight', dpi=300)\n",
    "#plt.savefig('RandomMatrix.eps', bbox_inches='tight', dpi=300)"
   ]
  },
  {
   "cell_type": "code",
   "execution_count": null,
   "metadata": {},
   "outputs": [],
   "source": [
    "# cross-correlation matrix resembles an identity matrix.\n",
    "ATA = A.T.dot(A)\n",
    "\n",
    "plt.grid(False)\n",
    "plt.imshow(ATA, cmap=plt.cm.bwr, vmin=-1.2, vmax=1.2)\n",
    "plt.colorbar()\n",
    "plt.show()"
   ]
  },
  {
   "cell_type": "code",
   "execution_count": null,
   "metadata": {},
   "outputs": [],
   "source": [
    "# show the distribution of the cross-correlation\n",
    "_,_,_ = plt.hist(ATA.ravel(), bins=50, range=(-1.2, 1.2), log=True, edgecolor='k')"
   ]
  },
  {
   "cell_type": "code",
   "execution_count": null,
   "metadata": {},
   "outputs": [],
   "source": [
    "# distribution of the relative errors of pairwise squared distances\n",
    "num = 300\n",
    "relerr = np.zeros(num)\n",
    "\n",
    "t0 = time()\n",
    "for i in range(num):\n",
    "    x = rng.randn(n)\n",
    "    f = A.dot(x)\n",
    "    norm2x, norm2f = np.dot(x,x), np.dot(f,f)\n",
    "    relerr[i] = (norm2f - norm2x) / norm2x\n",
    "print('done in %.2fs.' % (time() - t0))\n",
    "\n",
    "_,_,_ = plt.hist(relerr, bins=50, range=(-1.0, 1.0), edgecolor='k')"
   ]
  },
  {
   "cell_type": "code",
   "execution_count": null,
   "metadata": {},
   "outputs": [],
   "source": [
    "# generate a k-sparse vector\n",
    "k = 3\n",
    "stdx = 1.\n",
    "\n",
    "x = np.zeros(n)\n",
    "T = np.sort(rng.choice(n,k,replace=False))\n",
    "print('True support of %d nonzeros = ' % (k))\n",
    "print(T)\n",
    "x[T] = rng.rand(k) * stdx\n",
    "\n",
    "#ATAx = A.T.dot(A.dot(x))\n",
    "ATAx = ATA.dot(x)\n",
    "\n",
    "plt.figure()\n",
    "plt.plot(np.arange(n), x, 'g.', markersize=8, mec='green', label='True')\n",
    "plt.plot(np.arange(n), ATAx, 'ro', mfc = 'None', markersize=8, mec='red', mew=1, label='A.T.dot(A.dot(x))')\n",
    "plt.legend(loc='upper right', shadow=False)\n",
    "plt.tight_layout()\n",
    "plt.show()\n",
    "\n",
    "#plt.rc('font', family='serif')\n",
    "#plt.savefig('ATAx.pdf', bbox_inches='tight', dpi=300)\n",
    "#plt.savefig('ATAx.eps', bbox_inches='tight', dpi=300)"
   ]
  },
  {
   "cell_type": "markdown",
   "metadata": {},
   "source": [
    "### sklearn equips the sparse random projection"
   ]
  },
  {
   "cell_type": "code",
   "execution_count": null,
   "metadata": {},
   "outputs": [],
   "source": [
    "from sklearn.random_projection import johnson_lindenstrauss_min_dim\n",
    "from sklearn.random_projection import SparseRandomProjection\n",
    "\n",
    "Asp = SparseRandomProjection(n_components=4, dense_output=True, density=1.0/3.0, random_state=0)\n",
    "np.set_printoptions(precision=3, suppress=True)\n",
    "print Asp.fit_transform(np.eye(10)).T"
   ]
  },
  {
   "cell_type": "code",
   "execution_count": null,
   "metadata": {},
   "outputs": [],
   "source": [
    "Asp = SparseRandomProjection(n_components=m, dense_output=True, random_state=0)\n",
    "np.set_printoptions(precision=3, suppress=True)\n",
    "\n",
    "# distribution of the relative errors of pairwise squared distances\n",
    "num = 300\n",
    "relerr = np.zeros(num)\n",
    "\n",
    "t0 = time()\n",
    "for i in range(num):\n",
    "    x = rng.randn(n)\n",
    "    f = Asp.fit_transform(x.reshape(1, -1)).ravel()\n",
    "    norm2x, norm2f = np.dot(x,x), np.dot(f,f)\n",
    "    relerr[i] = (norm2f - norm2x) / norm2x\n",
    "print('done in %.2fs.' % (time() - t0))\n",
    "\n",
    "_,_,_ = plt.hist(relerr, bins=50, range=(-1.0, 1.0), edgecolor='k')"
   ]
  },
  {
   "cell_type": "markdown",
   "metadata": {},
   "source": [
    "### Efficient random projection [Sakai,09]"
   ]
  },
  {
   "cell_type": "code",
   "execution_count": null,
   "metadata": {},
   "outputs": [],
   "source": [
    "from scipy.fftpack import fft, ifft\n",
    "\n",
    "# r: one row of random matrix (Gaussian white random vector of size n)\n",
    "# d: vector of random signs of size n\n",
    "r = np.random.randn(n) / np.sqrt(m)\n",
    "fftrconj = np.conjugate(fft(r))\n",
    "d = (2*np.random.randint(0,2,size=n)-1)\n",
    "# circular convolution of r after random sign flip by d\n",
    "erp = lambda x: ifft(fft(d*x)*fftrconj)[:m].real\n",
    "\n",
    "# distribution of the relative errors of pairwise squared distances\n",
    "num = 300\n",
    "relerr = np.zeros(num)\n",
    "\n",
    "t0 = time()\n",
    "for i in range(num):\n",
    "    x = rng.randn(n)\n",
    "    f = erp(x)\n",
    "    norm2x, norm2f = np.dot(x,x), np.dot(f,f)\n",
    "    relerr[i] = (norm2f - norm2x) / norm2x\n",
    "print('done in %.2fs.' % (time() - t0))\n",
    "\n",
    "_,_,_ = plt.hist(relerr, bins=50, range=(-1.0, 1.0), edgecolor='k')"
   ]
  }
 ],
 "metadata": {
  "kernelspec": {
   "display_name": "Python 2",
   "language": "python",
   "name": "python2"
  },
  "language_info": {
   "codemirror_mode": {
    "name": "ipython",
    "version": 2
   },
   "file_extension": ".py",
   "mimetype": "text/x-python",
   "name": "python",
   "nbconvert_exporter": "python",
   "pygments_lexer": "ipython2",
   "version": "2.7.13"
  }
 },
 "nbformat": 4,
 "nbformat_minor": 2
}
