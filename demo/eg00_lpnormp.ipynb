{
 "cells": [
  {
   "cell_type": "code",
   "execution_count": 1,
   "metadata": {},
   "outputs": [],
   "source": [
    "%matplotlib inline"
   ]
  },
  {
   "cell_type": "code",
   "execution_count": 2,
   "metadata": {},
   "outputs": [
    {
     "name": "stdout",
     "output_type": "stream",
     "text": [
      "10\n",
      "6.14626436994\n",
      "4.33659499157\n",
      "4.03196172178\n"
     ]
    }
   ],
   "source": [
    "import numpy as np\n",
    "# define a function of computing Lp norm to the power p\n",
    "lpnormp = lambda x,p: sum(abs(x)**p) \n",
    "\n",
    "# observe if the Lp norm converges to no. of nonzeros if p->0\n",
    "x = np.array([1, 2, 0, 3, 0, 0, 4])\n",
    "print(lpnormp(x, 1))\n",
    "print(lpnormp(x, 0.5))\n",
    "print(lpnormp(x, 0.1))\n",
    "print(lpnormp(x, 0.01))"
   ]
  }
 ],
 "metadata": {
  "kernelspec": {
   "display_name": "Python 2",
   "language": "python",
   "name": "python2"
  },
  "language_info": {
   "codemirror_mode": {
    "name": "ipython",
    "version": 2
   },
   "file_extension": ".py",
   "mimetype": "text/x-python",
   "name": "python",
   "nbconvert_exporter": "python",
   "pygments_lexer": "ipython2",
   "version": "2.7.13"
  }
 },
 "nbformat": 4,
 "nbformat_minor": 2
}
